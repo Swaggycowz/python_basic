{
 "cells": [
  {
   "cell_type": "code",
   "execution_count": 1,
   "id": "390bf32c-676e-4979-b6fa-326937f9916d",
   "metadata": {},
   "outputs": [
    {
     "data": {
      "text/plain": [
       "4"
      ]
     },
     "execution_count": 1,
     "metadata": {},
     "output_type": "execute_result"
    }
   ],
   "source": [
    "2+2"
   ]
  },
  {
   "cell_type": "code",
   "execution_count": 3,
   "id": "7de5fdb9-86b8-4975-bd24-37134cb86b0b",
   "metadata": {},
   "outputs": [
    {
     "data": {
      "text/plain": [
       "'hi'"
      ]
     },
     "execution_count": 3,
     "metadata": {},
     "output_type": "execute_result"
    }
   ],
   "source": [
    "\"hi\""
   ]
  },
  {
   "cell_type": "code",
   "execution_count": 5,
   "id": "81705dc5-dce8-46d4-9241-aaa09312bb56",
   "metadata": {},
   "outputs": [
    {
     "name": "stdout",
     "output_type": "stream",
     "text": [
      "4\n",
      "4\n",
      "1.0\n"
     ]
    }
   ],
   "source": [
    "print(2+2)\n",
    "print(2*2)\n",
    "print(2/2)"
   ]
  },
  {
   "cell_type": "code",
   "execution_count": 9,
   "id": "8ad34aa1-32a8-4c38-973b-edd53ea978df",
   "metadata": {},
   "outputs": [
    {
     "data": {
      "text/plain": [
       "7"
      ]
     },
     "execution_count": 9,
     "metadata": {},
     "output_type": "execute_result"
    }
   ],
   "source": [
    "2*2\n",
    "2+5"
   ]
  },
  {
   "cell_type": "code",
   "execution_count": 17,
   "id": "9b3519f5-d365-47a5-acae-23d12cd58c30",
   "metadata": {},
   "outputs": [],
   "source": [
    "python= 1"
   ]
  },
  {
   "cell_type": "code",
   "execution_count": 19,
   "id": "0d61f1f7-66c8-4f94-8e67-dd51a0be3122",
   "metadata": {},
   "outputs": [
    {
     "data": {
      "text/plain": [
       "2"
      ]
     },
     "execution_count": 19,
     "metadata": {},
     "output_type": "execute_result"
    }
   ],
   "source": [
    "python + int('1')"
   ]
  },
  {
   "cell_type": "code",
   "execution_count": 21,
   "id": "f0612a7f-a382-422c-9e0d-22c21196ee50",
   "metadata": {},
   "outputs": [
    {
     "name": "stdout",
     "output_type": "stream",
     "text": [
      "hello world!\n",
      "whats your name?\n"
     ]
    },
    {
     "name": "stdin",
     "output_type": "stream",
     "text": [
      " 2\n"
     ]
    },
    {
     "name": "stdout",
     "output_type": "stream",
     "text": [
      "it is good to meet you, 2\n"
     ]
    }
   ],
   "source": [
    "print(\"hello world!\")\n",
    "print('whats your name?')\n",
    "myname = input()\n",
    "print(\"it is good to meet you, \" + myname)"
   ]
  },
  {
   "cell_type": "code",
   "execution_count": null,
   "id": "3cc2a577-dbaa-416c-ac3f-6de1203df230",
   "metadata": {},
   "outputs": [],
   "source": []
  }
 ],
 "metadata": {
  "kernelspec": {
   "display_name": "anaconda-2022.05-py39",
   "language": "python",
   "name": "conda-env-anaconda-2022.05-py39-py"
  },
  "language_info": {
   "codemirror_mode": {
    "name": "ipython",
    "version": 3
   },
   "file_extension": ".py",
   "mimetype": "text/x-python",
   "name": "python",
   "nbconvert_exporter": "python",
   "pygments_lexer": "ipython3",
   "version": "3.9.12"
  }
 },
 "nbformat": 4,
 "nbformat_minor": 5
}
